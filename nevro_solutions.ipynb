{
 "cells": [
  {
   "cell_type": "markdown",
   "metadata": {},
   "source": [
    "<!-- dom:TITLE: Beregningsoppgave - membranpotensial og nerveledning -->\n",
    "# Beregningsoppgave - membranpotensial og nerveledning\n",
    "<!-- AUTHOR: Solveig Næss -->\n",
    "\n",
    "<!-- DATE: today -->\n",
    "\n",
    "<!-- TOC: on -->"
   ]
  },
  {
   "cell_type": "markdown",
   "metadata": {},
   "source": [
    "\n"
   ]
  },
  {
   "cell_type": "markdown",
   "metadata": {},
   "source": [
    "<div class=\"alert alert-block alert-info\">\n",
    "\n",
    "Dette er en jupyter notebook. Under finner dere tekst og kodeceller.\n",
    "Hver kodecelle kjøres ved å trykke på cellen (grå boks), og deretter på \"play\"-symbolet øverst\n",
    "på siden eller ved å trykke \"shift + enter\".\n",
    "I kodecellene har vi små programmer som er skrevet i programmeringsspråket Python.\n",
    "Disse små programmene skal vi bruke til å gjøre utregninger.\n",
    "Dere trenger ingen forkunnskaper i programmering for å gjøre disse oppgavene.\n",
    "Følg instruksene og spør hvis dere lurer på noe!\n",
    "\n",
    "<!-- HVIS OPPGAVEN SKAL LEVERES INN: LEGG INN INFO HER -->\n",
    "<!-- Start med å lage en kopi av denne fila: Trykk på File; Make a copy. -->\n",
    "<!-- Denne beregningsoppgaven skal leveres i grupper på to. -->\n",
    "<!-- Endre deretter navnet på kopien til: EtternavnFornavn_EtternavnFornavn_beregning1.ipynb. <linebreak> -->\n",
    "<!-- Dersom dere heter Harry Potter og Isaac Newton, skal filnavnet altså være: PotterHarry_NewtonIsaac_beregning1.ipynb -->\n",
    "\n",
    "<!-- Denne fila skal leveres på CANVAS under Beregning1: Sirkulasjon. -->\n",
    "<!-- Leveringsfristen er 20.02, klokka 10.00. -->\n",
    "\n",
    "<!-- For å få innleveringen godkjent må dere svare på oppgave 1 og 2 + oppgave 3 ELLER 4. -->"
   ]
  },
  {
   "cell_type": "markdown",
   "metadata": {},
   "source": [
    "\n"
   ]
  },
  {
   "cell_type": "markdown",
   "metadata": {},
   "source": [
    "<!-- --- begin exercise --- -->\n",
    "\n",
    "## Oppgave 1: Membranpotensial\n",
    "<div id=\"ex:v_mem\"></div>\n",
    "\n",
    "\n",
    "**a)**\n",
    "Dobbeltklikk på teksten under, og fyll inn riktig ord på riktig sted:\n",
    "*ampere*, *spenning*, *konsentrasjoner*,  *membranpotensial*,  *volt*, *strøm*"
   ]
  },
  {
   "cell_type": "markdown",
   "metadata": {},
   "source": [
    "\n"
   ]
  },
  {
   "cell_type": "markdown",
   "metadata": {},
   "source": [
    "Ulike [----] av ioner inni og utenfor cellen skaper en elektrisk spenning over cellemembranen. Denne spenningen kaller vi [----]. Elektrisk potensial betyr det samme som elektrisk [----]. Ordet potensial brukes for å understreke at en oppladet membran har lagret potensiell energi. Elektrisk spenning måles i [----]."
   ]
  },
  {
   "cell_type": "markdown",
   "metadata": {},
   "source": [
    "\n"
   ]
  },
  {
   "cell_type": "markdown",
   "metadata": {},
   "source": [
    "(Bytt ut hver [----] med riktig ord. Trykk \"play\"/ \"shift+enter\", for at teksten skal se vanlig ut igjen.)\n",
    "\n",
    "\n",
    "<!-- --- begin solution of exercise --- -->\n",
    "**Løsning.**\n",
    "Ulike **konsentrasjoner** av ioner inni og utenfor cellen skaper en elektrisk spenning over cellemembranen. Denne spenningen kaller vi **membranpotensial**. Elektrisk potensial betyr det samme som elektrisk **spenning**. Elektrisk spenning måles i **volt**.\n",
    "\n",
    "<!-- --- end solution of exercise --- -->\n",
    "\n",
    "<!-- --- end exercise --- -->\n",
    "\n",
    "\n",
    "\n",
    "\n",
    "<!-- --- begin exercise --- -->\n",
    "\n",
    "## Oppgave 2: Likevektspotensial\n",
    "\n",
    "Likevektspotensialet for kalium er den elektriske spenningen som ville oppstått over membranen til en nervecelle som kun er permeabel for kalium.\n",
    "\n",
    "Vi kaller det likevektspotensial, fordi dette er spenningen som oppstår når diffusjonen av kalium inn i cellen vil være nøyaktig like stor som diffusjonen av kalium ut av cellen. Her ser vi bort fra aktiv transport av ioner gjennom cellemebranen, og tar kun hensyn til passiv transport gjennom lekkasjekanaler.\n",
    "\n",
    "**Ekstracellulære og intracellulære ionekonsentrasjoner:**\n",
    "<table border=\"1\">\n",
    "<thead>\n",
    "<tr><th align=\"center\">      Ion      </th> <th align=\"center\">Ekstracellulær (mM)</th> <th align=\"center\">Intracellulær (mM)</th> </tr>\n",
    "</thead>\n",
    "<tbody>\n",
    "<tr><td align=\"center\">   $\\mathrm{Na^+}$    </td> <td align=\"center\">   145                    </td> <td align=\"center\">   15                    </td> </tr>\n",
    "<tr><td align=\"center\">   $\\mathrm{K^+}$     </td> <td align=\"center\">   4                      </td> <td align=\"center\">   140                   </td> </tr>\n",
    "<tr><td align=\"center\">   $\\mathrm{Cl^-}$    </td> <td align=\"center\">   120                    </td> <td align=\"center\">   7                     </td> </tr>\n",
    "<tr><td align=\"center\">   Andre              </td> <td align=\"center\">   < 1                    </td> <td align=\"center\">   65                    </td> </tr>\n",
    "</tbody>\n",
    "</table>\n",
    "\n",
    "**a)**\n",
    "En kjemisk gradient og en elektrisk gradient driver diffusjon gjennom cellemembranen. Vil den kjemiske gradienten til kalium drive kalium-ioner inn eller ut av cellen? Hva med den elektriske gradienten?\n",
    "(Dobbeltklikk på \"Svar:\" under, og skriv inn svaret.)"
   ]
  },
  {
   "cell_type": "markdown",
   "metadata": {},
   "source": [
    "        Svar:\n"
   ]
  },
  {
   "cell_type": "markdown",
   "metadata": {},
   "source": [
    "<!-- --- begin solution of exercise --- -->\n",
    "**Løsning.**\n",
    "Kaliumkonsentrasjonen er større inni enn utenfor cellen. Denne konsentrasjonsforskjellen vil drive kalium ut av cellen. Ionestrømmen ut av cellen drives altså av en kjemisk gradient.\n",
    "Når den kjemiske gradienten driver $\\mathrm{K^+}$ ut av cellen, vil vi få et lite overskudd av $\\mathrm{K^+}$-ioner på utsiden av cellen. Dette overskuddet av positive ladninger utenfor cellen vil skape en elektrisk spenning over membranen, og dermed en elektrisk gradient. Den elektriske gradienten vil motvirke ladningsforskjellen, og elektriske krefter vil drive diffusjon av $\\mathrm{K^+}$-ioner inn i cellen. Alt dette skjer i passive ionekanaler i cellemebranen.\n",
    "\n",
    "<!-- --- end solution of exercise --- -->\n",
    "\n",
    "_____________________________-\n",
    "Nernst-likningen gir oss likevektspotensialet $E_x$ for én bestemt ionetype $x$."
   ]
  },
  {
   "cell_type": "markdown",
   "metadata": {},
   "source": [
    "<!-- Equation labels as ordinary links -->\n",
    "<div id=\"eq:nernst\"></div>\n",
    "\n",
    "$$\n",
    "\\begin{equation} \\label{eq:nernst} \\tag{1}\n",
    "E_x = \\frac{\\mathrm{C}}{z}\\log_{10}\\frac{[x]_{ute}}{[x]_{inne}},\n",
    "\\end{equation}\n",
    "$$"
   ]
  },
  {
   "cell_type": "markdown",
   "metadata": {},
   "source": [
    "<!-- NB: Dette er måten de er vant til å se Nernst-likningen på fra BIOS1120. Usikker på om Gundersen -->\n",
    "<!-- heller vil ha fysiske konstanter og ln? -->\n",
    "der\n",
    "* $\\mathrm{C} = 60$mV er en konstant\n",
    "\n",
    "* $z$ er ionets ladning (valens)\n",
    "\n",
    "* $[x]_{ute}$ er konsentrasjonen av ionetype $x$ utenfor cellen (mM)\n",
    "\n",
    "* $[x]_{inne}$ er konsentrasjonen av ionetype $x$ inni cellen (mM)\n",
    "\n",
    "Vi kan skrive Nernst-likningen som en python-funksjon på følgende måte:"
   ]
  },
  {
   "cell_type": "code",
   "execution_count": 1,
   "metadata": {
    "collapsed": false
   },
   "outputs": [],
   "source": [
    "from pylab import *\n",
    "\n",
    "def nernst(z, x_out, x_in):\n",
    "    E = 60/z*log10(x_out/x_in)\n",
    "    return E"
   ]
  },
  {
   "cell_type": "markdown",
   "metadata": {},
   "source": [
    "**b)**\n",
    "Hva er likevektspotensialet til kalium? Bruk tabellen og python-funksjonen over til å regne det ut:\n",
    "1. Kjør kodecellen over (den grå boksen) ved å trykke på cellen, og trykke på \"play\"/ \"shift+enter\"\n",
    "\n",
    "2. Trykk på kodecellen under, og fyll inn tall for kaliums valens (`z_K`), ekstracellulære konsentrasjon (`c_ut_K`) og intracellulære konsentrasjon (`c_inn_K`). (Fjern \"`# skriv inn tall her`\", og skriv inn riktig tall.)\n",
    "\n",
    "3. Kjør kodecellen under ved å trykke \"shift + enter\". Programmet skal gi deg likevektspotensialet til kalium."
   ]
  },
  {
   "cell_type": "code",
   "execution_count": 2,
   "metadata": {
    "collapsed": false
   },
   "outputs": [],
   "source": [
    "z_K = # skriv inn tall her\n",
    "c_ut_K = # skriv inn tall her\n",
    "c_inn_K = # skriv inn tall her\n",
    "E_K = nernst(z_K, c_ut_K, c_inn_K)\n",
    "print('Likevektspotensialet for kalium er ', E_K, 'mV.')"
   ]
  },
  {
   "cell_type": "markdown",
   "metadata": {},
   "source": [
    "<!-- --- begin solution of exercise --- -->\n",
    "**Løsning.**"
   ]
  },
  {
   "cell_type": "code",
   "execution_count": 3,
   "metadata": {
    "collapsed": false
   },
   "outputs": [],
   "source": [
    "z_K = 1\n",
    "c_out_K = 4\n",
    "c_in_K = 140\n",
    "E_K = nernst(z_K, c_out_K, c_in_K)\n",
    "print('Likevektspotensialet for kalium er ', E_K, 'mV.')"
   ]
  },
  {
   "cell_type": "markdown",
   "metadata": {},
   "source": [
    "<!-- --- end solution of exercise --- -->\n",
    "\n",
    "**c)**\n",
    "Tror dere likevektspotensialet til natrium være positivt eller negativt? Hvorfor?\n",
    "Hva med likevektspotensialet til klorid?"
   ]
  },
  {
   "cell_type": "markdown",
   "metadata": {},
   "source": [
    "        Svar:\n"
   ]
  },
  {
   "cell_type": "markdown",
   "metadata": {},
   "source": [
    "<!-- --- begin solution of exercise --- -->\n",
    "**Løsning.**\n",
    "Ekstracellulær konsentrasjon av natrium er større enn intracellulær konsentrasjon. Den kjemiske gradienten til natrium vil derfor drive natrium-ioner inn i cellen. Dette vil gi et overskudd av positive ladninger inni cellen, som setter opp en elektrisk spenning over cellemebranen. Når denne spenningen gjør at den elektriske gradienten til natrium er like stor som (men i motsatt retning av) den kjemiske gradienten til natrium, er spenningen (membranpotensialet) = likevektspotensialet til natrium. Når membranpotensialet til cellen = likevektspotensialet til natrium, vil altså netto strøm av natrium-ioner gjennom membranen være null. Membranpotensialet er definert som positivt når det er flere positive ladninger inni cellen enn utenfor. Vi kan si at natrium er \"fornøyd\" når det er noen ekstra $\\mathrm{Na^+}$-ioner inni cellen. Likevektspotensialet til natrium er derfor positivt.\n",
    "\n",
    "Vi kan også forklare dette ved å se på Nernst-likningen: Ekstracellulær konsentrasjon av natrium er større enn intracellulær konsentrasjon. Brøken $\\frac{[Na+]_{ute}}{[Na+]_{inne}}$ vil være større enn $1$, og $\\log_{10}(\\frac{[Na+]_{ute}}{[Na+]_{inne}}>1) > 0$. Videre er $z = +1$. For å finne $E_{Na}$ må vi gange sammen positive tall, og $E_{Na}$ må nødvendigvis bli et positivt tall.\n",
    "\n",
    "Den kjemiske gradienten (som setter opp likevektspotensialet) til klor vil drive negative klor-ioner inn i cellen. Klor er altså \"fornøyd\" når vi har noen ekstra $\\mathrm{Cl^-}$-ioner inni cellen, altså når membranpotensialet er negativt. Likevektspotensialet til klor er negativt.\n",
    "\n",
    "Forklart ved Nernst-likningen: Ekstracellulær konsentrasjon av klorid er større enn intracellulær konsentrasjon. Brøken $\\frac{[Cl-]_{ute}}{[Cl-]_{inne}}$ vil være større enn $1$, og $\\log_{10}(\\frac{[Cl-]_{ute}}{[Cl-]_{inne}}>1) > 0$. Videre er $z = -1$, og $E_{Cl}$ vil være et negativt tall.\n",
    "\n",
    "<!-- --- end solution of exercise --- -->\n",
    "\n",
    "**d)**\n",
    "Bruk python-funksjonen til å regne ut likevektspotensialet til natrium og klorid, ved å fylle inn tall i kodecellen under. Stemmer svarene overens med konklusjonen i forrige deloppgave? Hvis ikke, finn ut hva som var feil med resonnementet deres og korriger svaret i oppgave 2c."
   ]
  },
  {
   "cell_type": "code",
   "execution_count": 4,
   "metadata": {
    "collapsed": false
   },
   "outputs": [],
   "source": [
    "z_Na =\n",
    "c_out_Na =\n",
    "c_in_Na =\n",
    "\n",
    "z_Cl =\n",
    "c_out_Cl =\n",
    "c_in_Cl =\n",
    "\n",
    "E_Na = nernst(z_Na, c_out_Na, c_in_Na)\n",
    "E_Cl = nernst(z_Cl, c_out_Cl, c_in_Cl)\n",
    "\n",
    "print('Likevektspotensialet til natrium er',  E_Na, 'mV.')\n",
    "print('Likevektspotensialet til klorid er', E_Cl, 'mV.')"
   ]
  },
  {
   "cell_type": "markdown",
   "metadata": {},
   "source": [
    "<!-- --- begin solution of exercise --- -->\n",
    "**Løsning.**"
   ]
  },
  {
   "cell_type": "code",
   "execution_count": 5,
   "metadata": {
    "collapsed": false
   },
   "outputs": [],
   "source": [
    "z_Na = 1\n",
    "c_out_Na = 145\n",
    "c_in_Na = 15\n",
    "\n",
    "z_Cl = -1\n",
    "c_out_Cl = 120\n",
    "c_in_Cl = 7\n",
    "\n",
    "E_Na = nernst(z_Na, c_out_Na, c_in_Na)\n",
    "E_Cl = nernst(z_Cl, c_out_Cl, c_in_Cl)\n",
    "\n",
    "print('Likevektspotensialet til natrium er',  E_Na, 'mV.')\n",
    "print('Likevektspotensialet til klorid er', E_Cl, 'mV.')"
   ]
  },
  {
   "cell_type": "markdown",
   "metadata": {},
   "source": [
    "<!-- --- end solution of exercise --- -->\n",
    "\n",
    "<!-- --- end exercise --- -->\n",
    "\n",
    "\n",
    "\n",
    "\n",
    "<!-- --- begin exercise --- -->\n",
    "\n",
    "## Oppgave 3: Hvilemembranpotensial\n",
    "\n",
    "\n",
    "**a)**\n",
    "Hva er forskjellen på likevektspotensial og hvilemembranpotensial?"
   ]
  },
  {
   "cell_type": "markdown",
   "metadata": {},
   "source": [
    "        Svar:\n"
   ]
  },
  {
   "cell_type": "markdown",
   "metadata": {},
   "source": [
    "<!-- --- begin solution of exercise --- -->\n",
    "**Løsning.**\n",
    "Likevektspotensial er tilknyttet én bestemt ionetype. Likevektspotensialet for ionetype $x$ er den elektriske spenningen over cellemembranen som oppstår når ionestrøm av $x$ inn i cellen er nøyaktig like stor som ionestrømmen av $x$ ut av cellen. Her er netto ionestrøm for $x$ lik $0$.\n",
    "Hvilemembranpotensial er elektrisk spenningen over cellemembranen når netto ionstrøm av alle ionetyper over cellemembranen er null.\n",
    "\n",
    "<!-- --- end solution of exercise --- -->\n",
    "\n",
    "Når vi skal regne ut hvilemembranpotensialet til en celle, trenger vi en likning som likner veldig på Nernst-likningen, men som er noe mer komplisert. Denne heter Goldman-Hodgkin-Katz, og ser slik ut:"
   ]
  },
  {
   "cell_type": "markdown",
   "metadata": {},
   "source": [
    "$$\n",
    "E_m = \\mathrm{C} \\cdot \\log_{10}{\\frac{P_{Na+}[Na+]_{ute} + P_{K+}[K+]_{ute} + P_{Cl-}[Cl-]_{inne}}{P_{Na+}[Na+]_{inne} + P_{K+}[K+]_{inne} + P_{Cl-}[Cl-]_{ute}}}\n",
    "$$"
   ]
  },
  {
   "cell_type": "markdown",
   "metadata": {},
   "source": [
    "Her er $P_{x}$ cellemembranens permeabilitet for ionetype $x$. Dvs hvor lett det er for ion $x$ å slippe gjennom membranen når kun passive lekkasjekanaler, og ingen aktive kanaler, er åpne. En nervecelle har vanligvis følgende permeabiliteter: $P_{Na^+} = 1$, $P_{K^+} = 20$ og $P_{Cl^-} = 9$.\n",
    "\n",
    "Kodecellen under gir oss Goldman-Hodgkin-Katz-likningen som en python-funksjon.\n",
    "\n",
    "<div class=\"alert alert-block alert-info\">\n",
    "Kjør kodecellen under."
   ]
  },
  {
   "cell_type": "code",
   "execution_count": 6,
   "metadata": {
    "collapsed": false
   },
   "outputs": [],
   "source": [
    "from pylab import *\n",
    "from ipywidgets import widgets, fixed\n",
    "def ghk(p_Na, p_K, p_Cl,\n",
    "        c_out_Na, c_out_K, c_out_Cl,\n",
    "        c_in_Na, c_in_K, c_in_Cl):\n",
    "    E_m = 60*log10((p_Na*c_out_Na + p_K*c_out_K + p_Cl*c_in_Cl)/(p_Na*c_in_Na + p_K*c_in_K + p_Cl*c_out_Cl))\n",
    "    return E_m\n",
    "\n",
    "slider = widgets.interact(ghk,\n",
    "                          p_Na=widgets.IntSlider(min=1., max=30., step=1., value=1.),\n",
    "                          p_K=widgets.IntSlider(min=1., max=30., step=1., value=20.),\n",
    "                          p_Cl=widgets.IntSlider(min=1., max=30., step=1., value=9.),\n",
    "                          c_out_Na=widgets.IntSlider(min=1., max=160., step=1., value=1.),\n",
    "                          c_out_K=widgets.IntSlider(min=1., max=160., step=1., value=1.),\n",
    "                          c_out_Cl=widgets.IntSlider(min=1., max=160., step=1., value=1.),\n",
    "                          c_in_Na=widgets.IntSlider(min=1., max=160., step=1., value=1.),\n",
    "                          c_in_K=widgets.IntSlider(min=1., max=160., step=1., value=1.),\n",
    "                          c_in_Cl=widgets.IntSlider(min=1., max=160., step=1., value=1.)\n",
    "                          )"
   ]
  },
  {
   "cell_type": "markdown",
   "metadata": {},
   "source": [
    "**b)**\n",
    "Hva er hvilemembranpotensialet for en nervecelle med konsentrasjoner som gitt i tabellen over, og følgende permeabiliteter: $P_{Na^+} = 1$, $P_{K^+} = 20$, $P_{Cl^-} = 9$?\n",
    "* Kjør kodecellen over.\n",
    "\n",
    "* Still inn sliderne over sånn at de samsvarer med ionekonsentrasjonene i tabellen i oppgave 2. Dere kan justere sliderne ved å dra i de grå knappene, eller ved å trykke på tallet til høyre for slideren og skrive inn riktig tall."
   ]
  },
  {
   "cell_type": "markdown",
   "metadata": {},
   "source": [
    "        Svar:\n"
   ]
  },
  {
   "cell_type": "markdown",
   "metadata": {},
   "source": [
    "<!-- --- begin solution of exercise --- -->\n",
    "**Løsning.**\n",
    "Bruker sliderne og finner at $E_m \\approx -68$ mV."
   ]
  },
  {
   "cell_type": "code",
   "execution_count": 7,
   "metadata": {
    "collapsed": false
   },
   "outputs": [],
   "source": [
    "p_Na = 1\n",
    "p_K = 20\n",
    "p_Cl = 9\n",
    "E_m = ghk(p_Na, p_K, p_Cl,\n",
    "          c_out_Na, c_out_K, c_out_Cl,\n",
    "          c_in_Na, c_in_K, c_in_Cl)\n",
    "print('Hvilemembranpotensialet er ', round(E_m), ' mV.')"
   ]
  },
  {
   "cell_type": "markdown",
   "metadata": {},
   "source": [
    "<!-- --- end solution of exercise --- -->\n",
    "\n",
    "**c)**\n",
    "Hvilken ionetype er viktigst for å sette opp hvilemembranpotensialet?"
   ]
  },
  {
   "cell_type": "markdown",
   "metadata": {},
   "source": [
    "        Svar:\n"
   ]
  },
  {
   "cell_type": "markdown",
   "metadata": {},
   "source": [
    "<!-- --- begin solution of exercise --- -->\n",
    "**Løsning.**\n",
    "En passiv cellemembran er mye mer permeabel for kalium, enn for noen av de andre ionetypene. Membranpotensialet vil derfor hovedsakelig settes opp av kalium.\n",
    "\n",
    "<!-- --- end solution of exercise --- -->\n",
    "\n",
    "**d)**\n",
    "Valium øker permeabiliteten for klorid. Hva skjer med cellens evne til å fyre et aksjonspotensial hvis du tar valium?"
   ]
  },
  {
   "cell_type": "markdown",
   "metadata": {},
   "source": [
    "        Svar:\n"
   ]
  },
  {
   "cell_type": "markdown",
   "metadata": {},
   "source": [
    "<!-- --- begin solution of exercise --- -->\n",
    "**Løsning.**\n",
    "Når membranen blir mer permeabel for klorid, vil hvilemembranpotensialet bli mer likt likevektspotensialet til klorid. Det vil gå flere klor-ioner inn i cellen, og hvilemembranpotensialet blir mer negativt. Det blir vanskeligere for cellen å fyre et aksjonspotensial. Cellen blir mindre aktiv.\n",
    "\n",
    "<!-- --- end solution of exercise --- -->\n",
    "\n",
    "**e)**\n",
    "Ved dødsstraff i USA har en dødelig injeksjon av kalium vært brukt. Hva skjer med hvilemembranpotensialet dersom konsentrasjonen av ekstracellulært kalium økes?"
   ]
  },
  {
   "cell_type": "markdown",
   "metadata": {},
   "source": [
    "        Svar:\n"
   ]
  },
  {
   "cell_type": "markdown",
   "metadata": {},
   "source": [
    "<!-- --- begin solution of exercise --- -->\n",
    "**Løsning.**\n",
    "En økning av ekstracellulært kalium vil ikke gi noe særlig utslag for nerveceller i hjernen (pga blod-hjerne-barrieren), men for nervecellene i hjertet vil dette ha store konsekvenser:\n",
    "\n",
    "Ved økt ekstracellulær konsentrasjon av kalium vil likevektspotensialet til kalium bli mer positivt. Når likevektspotensialet til kalium øker, vil også hvilemembranpotensialet til hjertecellen bli mer positivt. Dersom den ekstracellulære konsentrasjonen av kalium blir høy nok, vil hvilemembranpotensialet til cellen bli så høyt at cellen aldri vil komme ned til det lave membranpotensialet som skal til for å stoppe inaktiveringen av natrium-kanaler etter et aksjonspotensial. Så lenge natrium-kanalene forblir inaktivert kan ikke cellen fyre et nytt aksjonspotensial.\n",
    "\n",
    "<!-- --- end solution of exercise --- -->\n",
    "\n",
    "<!-- --- end exercise --- -->\n",
    "\n",
    "\n",
    "\n",
    "\n",
    "<!-- --- begin exercise --- -->\n",
    "\n",
    "## Oppgave 4: Nervecelleledning i et akson\n",
    "\n",
    "I denne oppgaven skal vi simulere hva som skjer med membranpotensialet i et akson når vi\n",
    "sender inn elektrisk strøm med en elektrode.\n",
    "\n",
    "Kjør kodecellen nedenfor for å lage python-funksjoner som kan simulere\n",
    "aksonaktiviteten og plotte resultatene."
   ]
  },
  {
   "cell_type": "code",
   "execution_count": 8,
   "metadata": {
    "collapsed": false
   },
   "outputs": [],
   "source": [
    "%matplotlib inline\n",
    "\n",
    "from pylab import * # general plotting and computing\n",
    "from matplotlib.collections import PolyCollection # extra fancy plotting\n",
    "from ipywidgets import widgets, fixed # sliders\n",
    "import LFPy # neural simulation\n",
    "from neuron import h # neural simulation\n",
    "\n",
    "def plot_morph(ax, cell, input_idcs=[0]):\n",
    "    zips = []\n",
    "    for x, z in cell.get_idx_polygons():\n",
    "        zips.append(list(zip(x, z)))\n",
    "    polycol = PolyCollection(zips,\n",
    "                             edgecolors='k',\n",
    "                             facecolors='k',\n",
    "                             linewidths = cell.diam)\n",
    "\n",
    "    ax.add_collection(polycol)\n",
    "    for idx in input_idcs:\n",
    "        ax.plot(cell.xmid[idx], cell.zmid[idx], 'rv', ms=15)\n",
    "    ax.set_ylim([-10, 12])\n",
    "\n",
    "    ax.spines['left'].set_visible(False)\n",
    "    ax.set_yticklabels([])\n",
    "    ax.set_yticks([])\n",
    "    ax.set_xlabel(r'x ($\\mu$m)')\n",
    "    ax.set_title('morphology')\n",
    "\n",
    "def plot_electrode_current(ax, cell, stim_electrode):\n",
    "    ax.plot(cell.tvec, stim_electrode.i, 'r')\n",
    "    ax.set_xlabel('t (ms)')\n",
    "    ax.set_ylabel(r'$I$(t) (nA)')\n",
    "    ax.set_title('Injected current (t)')\n",
    "\n",
    "def plot_membrane_potential_t(ax, cell, idx):\n",
    "    ax.plot(cell.tvec, cell.vmem[idx,:])\n",
    "    ax.set_xlabel('t (ms)')\n",
    "    ax.set_ylabel(r'$V$(t) (mV)')\n",
    "    ax.set_title('potential (t)')\n",
    "    ax.set_ylim([-70, 250])\n",
    "\n",
    "# plot potential as function of x\n",
    "def plot_membrane_potential_x(ax, cell, t_point):\n",
    "    t = int(t_point/cell.dt) # convert from time in (ms) to timepoint\n",
    "    ax.plot(cell.xmid, cell.vmem[:,t])\n",
    "    ax.set_ylabel('V(x) (mV)')\n",
    "    ax.set_xlabel(r'x ($\\mu$m)')\n",
    "    ax.set_title('membrane potential (x)')\n",
    "    ax.set_ylim([-70, 200])\n",
    "\n",
    "def plotting_cosmetics(fig):\n",
    "    for ax in fig.axes:\n",
    "        ax.spines['top'].set_visible(False)\n",
    "        ax.spines['right'].set_visible(False)\n",
    "    fig.tight_layout(pad=0.5, h_pad=1., w_pad=.7)\n",
    "\n",
    "def custom_fun():\n",
    "    h.axon[0].insert('hh')\n",
    "    h.axon[1].insert('hh')\n",
    "\n",
    "def simulate_cell(morphology, input_locs, active=False):\n",
    "    # set synapse parameters\n",
    "    r_m = 30000. # membrane resistance\n",
    "    cell_parameters = {\n",
    "        'morphology' : morphology,\n",
    "        'cm' : 1.0,         # membrane capacitance\n",
    "        'Ra' : 150.,        # axial resistance\n",
    "        'v_init' : -65.,    # initial membrane potential\n",
    "        'passive' : True,   # turn on NEURONs passive mechanism for all sections\n",
    "        'passive_parameters' : {'g_pas' : 1./r_m, 'e_pas' : -65}, # e_pas = resting potential\n",
    "        'nsegs_method': 'lambda_f',\n",
    "        'dt' : 2.**-3,      # simulation time step size\n",
    "        'tstart' : 0.,      # start time of simulation, recorders start at t=0\n",
    "        'tstop' : 100.,     # stop simulation at 100 ms.\n",
    "    }\n",
    "\n",
    "    if active:\n",
    "        cell_parameters['custom_fun'] = [custom_fun]\n",
    "        cell_parameters['custom_fun_args'] = [{}]\n",
    "\n",
    "    # create cell object\n",
    "    cell = LFPy.Cell(**cell_parameters)\n",
    "\n",
    "    # create electrode for stimulating cell\n",
    "    pointprocess = {\n",
    "        'record_current' : True,\n",
    "        'pptype' : 'IClamp',\n",
    "        'amp' : 1,\n",
    "        'dur' : 5,\n",
    "        'delay' : 20,\n",
    "    }\n",
    "\n",
    "    for i in range(len(input_locs)):\n",
    "        pointprocess['idx'] = cell.get_closest_idx(x=input_locs[i], y=0, z=0)\n",
    "        stim_electrode = LFPy.StimIntElectrode(cell, **pointprocess)\n",
    "\n",
    "    # simulate cell\n",
    "    cell.simulate(rec_imem=True, rec_vmem=True)\n",
    "\n",
    "    return cell, stim_electrode\n",
    "\n",
    "def run_sim_and_plot(morphology, input_locs, active, timepoint):\n",
    "    cell, electrode = simulate_cell(morphology, input_locs, active=active)\n",
    "\n",
    "    fig = figure()\n",
    "    ax_morph = subplot2grid((2,1),(0,0))\n",
    "    ax_v_x = subplot2grid((2,1),(1,0))\n",
    "\n",
    "    # plot morph\n",
    "    idcs = [cell.get_closest_idx(x=x_loc, y=0, z=0) for x_loc in input_locs]\n",
    "    plot_morph(ax_morph, cell, input_idcs = idcs)\n",
    "    # plot V(x)\n",
    "    plot_membrane_potential_x(ax_v_x, cell, timepoint)\n",
    "    plotting_cosmetics(fig)"
   ]
  },
  {
   "cell_type": "markdown",
   "metadata": {},
   "source": [
    "**Passivt akson**\n",
    "\n",
    "En nervecelle har aktive og passive ionekanaler. For å studere forskjellen på disse,\n",
    "starter vi med å sette inn kun passive ionekanaler i aksonet. Vi kan sammenligne et\n",
    "passivt akson med en vannslange med hull i. Elektrisk strøm vil \"lekke ut\" av de passive kanalene.\n",
    "\n",
    "\n",
    "**a)**\n",
    "Kjør kodecellen under for å sende strøm inn i et passivt akson.\n",
    "* I det øverste plottet ser dere aksonet.\n",
    "\n",
    "* Den røde trekanten viser hvor strøm blir sendt inn med en elektrode.\n",
    "\n",
    "* Plottet nederst til venstre viser strømmen som elektroden sender inn i aksonet."
   ]
  },
  {
   "cell_type": "code",
   "execution_count": 9,
   "metadata": {
    "collapsed": false
   },
   "outputs": [],
   "source": [
    "morphology = './cells/axon.hoc'\n",
    "cell, electrode = simulate_cell(morphology, [0.])\n",
    "\n",
    "fig = figure()\n",
    "ax_morph = subplot2grid((2,2),(0,0), colspan=2)\n",
    "ax_i = subplot2grid((2,2),(1,0))\n",
    "ax_v_t = subplot2grid((2,2),(1,1))\n",
    "\n",
    "# plot morphology\n",
    "plot_morph(ax_morph, cell, input_idcs = [0])\n",
    "# plot injected current as function of time\n",
    "plot_electrode_current(ax_i, cell, electrode)\n",
    "# plot membrane potential where current is injected as function of time\n",
    "plot_membrane_potential_t(ax_v_t, cell, 0)\n",
    "plotting_cosmetics(fig)\n",
    "show()"
   ]
  },
  {
   "cell_type": "markdown",
   "metadata": {},
   "source": [
    "* Hvor stort er membranpotensialet før strømmen slås på?\n",
    "\n",
    "* Hva skjer med membranpotensialet når strømmen slås på? Hvorfor?\n",
    "\n",
    "* Hvorfor går ikke membranpotensialet umiddelbart tilbake til sin opprinnelige verdi når strømmen slås av?"
   ]
  },
  {
   "cell_type": "markdown",
   "metadata": {},
   "source": [
    "        Svar:\n"
   ]
  },
  {
   "cell_type": "markdown",
   "metadata": {},
   "source": [
    "**b)**\n",
    "Nå skal vi se på hvordan membranpotensialet brer seg i et passivt akson.\n",
    "Kjør kodecellen under.\n",
    "* I det øverste plottet ser dere aksonet.\n",
    "\n",
    "* Den røde trekanten viser hvor strøm blir sendt inn med en elektrode.\n",
    "\n",
    "* Det nederstet plottet viser membranpotensial som funksjon av x.\n",
    "\n",
    "* Med slideren kan dere bestemme hvilket tidspunkt som skal vises.\n",
    "\n",
    "Dere kan dra i slideren med musepekeren,\n",
    "eller trykke på slideren og bruke piltastene til å gå fram/ tilbake i tid."
   ]
  },
  {
   "cell_type": "code",
   "execution_count": 10,
   "metadata": {
    "collapsed": false
   },
   "outputs": [],
   "source": [
    "# define cell morphology\n",
    "morphology = './cells/axon.hoc'\n",
    "# set the x-coordinate where you want the axon to get electric input\n",
    "input_locs = [0.]\n",
    "# decide whether to insert active ion channels or not\n",
    "active = False\n",
    "# simulate with slider\n",
    "slider = widgets.interact(run_sim_and_plot,\n",
    "                          morphology=fixed(morphology),\n",
    "                          input_locs=fixed(input_locs),\n",
    "                          active=fixed(active),\n",
    "                          timepoint=widgets.FloatSlider(description='t (ms)', min=0, max=100., step=0.2, value=20.)\n",
    "                         )"
   ]
  },
  {
   "cell_type": "markdown",
   "metadata": {},
   "source": [
    "* Ved hvilket tidspunkt er membranpotensialet sterkest?\n",
    "\n",
    "* Hvor på aksonet skjer dette?"
   ]
  },
  {
   "cell_type": "markdown",
   "metadata": {},
   "source": [
    "        Svar:\n"
   ]
  },
  {
   "cell_type": "markdown",
   "metadata": {},
   "source": [
    "**c)**\n",
    "Hvordan tror dere membranpotensialet vil se ut dersom vi flytter elektroden til\n",
    "midten av aksonet? Diskutér med sidemannen."
   ]
  },
  {
   "cell_type": "markdown",
   "metadata": {},
   "source": [
    "        Svar:\n"
   ]
  },
  {
   "cell_type": "markdown",
   "metadata": {},
   "source": [
    "Dere kan endre elektrodens plassering ved å gjøre om på følgende linje i kodecellen over:\n",
    "*input_locs = [0.]*. Tallet inni klammeparentesen gir x-posisjonen til elektroden. Endre på denne sånn at elektroden blir plassert midt på aksonet:\n",
    "*input_locs = [1000.]*.\n",
    "Stemte resultatene med deres antakelser?"
   ]
  },
  {
   "cell_type": "markdown",
   "metadata": {},
   "source": [
    "        Svar:\n"
   ]
  },
  {
   "cell_type": "markdown",
   "metadata": {},
   "source": [
    "**Akson med spenningsstyrte ionekanaler**\n",
    "\n",
    "**d)**\n",
    "Nå skal vi sette inn spenningsstyrte ionekanaler i aksonet. Endre kodecellen over fra\n",
    "*active = False* til *active = True*.\n",
    "I tillegg kan dere flytte elektroden tilbake til starten av aksonet: *input_locs = [0.]*.\n",
    "Kjør kodecellen og bruk slideren til å se hvordan et aksjonspotensial brer seg gjennom aksonet.\n",
    "\n",
    "**e)**\n",
    "Nå skal vi simulere to elektroder som sender strøm inn i aksonet.\n",
    "Vi setter én elektrode i hver ende av aksonet på denne måten:\n",
    "*input_locs = [0., 2000.]*\n",
    "Gjør endringen i kodecellen over og kjør koden.\n",
    "* Hva tror dere skjer når to aksjonspotensialer møtes? Diskutér med sidemannen."
   ]
  },
  {
   "cell_type": "markdown",
   "metadata": {},
   "source": [
    "        Svar:\n"
   ]
  },
  {
   "cell_type": "markdown",
   "metadata": {},
   "source": [
    "* Bruk slideren for å sjekke om antakelsene deres stemte.\n",
    "\n",
    "**f)**\n",
    "Lek med simuleringen ved å sette inn flere elektroder.\n",
    "Bruk komma og legg til flere x-posisjoner i input-locs.\n",
    "Dere kan sette inn så mange elektroder dere vil.\n",
    "*input_locs = [10., 500., 990., ...]*\n",
    "\n",
    "Principles of Computational Modelling in Neuroscience, Sterratt et al. 2011\n",
    "<!-- --- end exercise --- -->"
   ]
  }
 ],
 "metadata": {},
 "nbformat": 4,
 "nbformat_minor": 2
}
